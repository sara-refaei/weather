{
 "cells": [
  {
   "cell_type": "code",
   "execution_count": 1,
   "metadata": {},
   "outputs": [],
   "source": [
    "#import libraries\n",
    "import requests\n",
    "import csv"
   ]
  },
  {
   "cell_type": "code",
   "execution_count": 3,
   "metadata": {},
   "outputs": [],
   "source": [
    "#make a responce and get data\n",
    "response = requests.get('https://www.metaweather.com/api/location/1521894/')\n",
    "weather_data = response.json()"
   ]
  },
  {
   "cell_type": "code",
   "execution_count": 5,
   "metadata": {},
   "outputs": [
    {
     "data": {
      "text/plain": [
       "[{'id': 6495053766721536,\n",
       "  'weather_state_name': 'Heavy Cloud',\n",
       "  'weather_state_abbr': 'hc',\n",
       "  'wind_direction_compass': 'NW',\n",
       "  'created': '2022-03-11T13:34:23.962498Z',\n",
       "  'applicable_date': '2022-03-11',\n",
       "  'min_temp': 9.629999999999999,\n",
       "  'max_temp': 17.27,\n",
       "  'the_temp': 16.5,\n",
       "  'wind_speed': 10.534407369657202,\n",
       "  'wind_direction': 307.1844450607378,\n",
       "  'air_pressure': 1012.5,\n",
       "  'humidity': 40,\n",
       "  'visibility': 10.363228744134256,\n",
       "  'predictability': 71},\n",
       " {'id': 5668361917693952,\n",
       "  'weather_state_name': 'Heavy Cloud',\n",
       "  'weather_state_abbr': 'hc',\n",
       "  'wind_direction_compass': 'NNW',\n",
       "  'created': '2022-03-11T13:34:25.761084Z',\n",
       "  'applicable_date': '2022-03-12',\n",
       "  'min_temp': 7.265000000000001,\n",
       "  'max_temp': 17.560000000000002,\n",
       "  'the_temp': 15.755,\n",
       "  'wind_speed': 8.026694353514145,\n",
       "  'wind_direction': 343.09377397087997,\n",
       "  'air_pressure': 1021.5,\n",
       "  'humidity': 37,\n",
       "  'visibility': 10.139845800524935,\n",
       "  'predictability': 71},\n",
       " {'id': 5974056483422208,\n",
       "  'weather_state_name': 'Light Cloud',\n",
       "  'weather_state_abbr': 'lc',\n",
       "  'wind_direction_compass': 'NNW',\n",
       "  'created': '2022-03-11T13:34:28.738641Z',\n",
       "  'applicable_date': '2022-03-13',\n",
       "  'min_temp': 7.155,\n",
       "  'max_temp': 18.925,\n",
       "  'the_temp': 16.61,\n",
       "  'wind_speed': 7.534132693255388,\n",
       "  'wind_direction': 344.7072495144225,\n",
       "  'air_pressure': 1021.0,\n",
       "  'humidity': 37,\n",
       "  'visibility': 12.87947138709934,\n",
       "  'predictability': 70},\n",
       " {'id': 6423828310786048,\n",
       "  'weather_state_name': 'Light Cloud',\n",
       "  'weather_state_abbr': 'lc',\n",
       "  'wind_direction_compass': 'NNW',\n",
       "  'created': '2022-03-11T13:34:33.459932Z',\n",
       "  'applicable_date': '2022-03-14',\n",
       "  'min_temp': 6.484999999999999,\n",
       "  'max_temp': 18.33,\n",
       "  'the_temp': 15.485,\n",
       "  'wind_speed': 9.001188253514144,\n",
       "  'wind_direction': 345.15321851505973,\n",
       "  'air_pressure': 1024.5,\n",
       "  'humidity': 37,\n",
       "  'visibility': 11.305227471566054,\n",
       "  'predictability': 70},\n",
       " {'id': 4776507697266688,\n",
       "  'weather_state_name': 'Showers',\n",
       "  'weather_state_abbr': 's',\n",
       "  'wind_direction_compass': 'NW',\n",
       "  'created': '2022-03-11T13:34:34.668109Z',\n",
       "  'applicable_date': '2022-03-15',\n",
       "  'min_temp': 7.33,\n",
       "  'max_temp': 16.605,\n",
       "  'the_temp': 15.240000000000002,\n",
       "  'wind_speed': 10.039301659521726,\n",
       "  'wind_direction': 325.99322989193024,\n",
       "  'air_pressure': 1024.5,\n",
       "  'humidity': 38,\n",
       "  'visibility': 10.945453551260638,\n",
       "  'predictability': 73},\n",
       " {'id': 4940429653966848,\n",
       "  'weather_state_name': 'Light Cloud',\n",
       "  'weather_state_abbr': 'lc',\n",
       "  'wind_direction_compass': 'N',\n",
       "  'created': '2022-03-11T13:34:37.738188Z',\n",
       "  'applicable_date': '2022-03-16',\n",
       "  'min_temp': 6.41,\n",
       "  'max_temp': 19.564999999999998,\n",
       "  'the_temp': 16.44,\n",
       "  'wind_speed': 6.3771339378032295,\n",
       "  'wind_direction': 350.0,\n",
       "  'air_pressure': 1024.0,\n",
       "  'humidity': 39,\n",
       "  'visibility': 9.999726596675416,\n",
       "  'predictability': 70}]"
      ]
     },
     "execution_count": 5,
     "metadata": {},
     "output_type": "execute_result"
    }
   ],
   "source": [
    "weather_data['consolidated_weather']"
   ]
  },
  {
   "cell_type": "code",
   "execution_count": 9,
   "metadata": {},
   "outputs": [],
   "source": [
    "#create a CSV file\n",
    "with open('weather.csv', 'w', newline = '') as f:\n",
    "    writer = csv.DictWriter(f, fieldnames = ['temperature', 'humidity', 'visibility', 'air_pressure', 'wind_speed', 'date_time'])\n",
    "    writer.writeheader()\n",
    "    \n",
    "    for w in weather_data['consolidated_weather']:\n",
    "        temperature = w['the_temp']\n",
    "        humidity = w['humidity']\n",
    "        visibility = w['visibility']\n",
    "        air_pressure = w['air_pressure']\n",
    "        wind_speed = w['wind_speed']\n",
    "        date_time = w['applicable_date']\n",
    "        \n",
    "        \n",
    "        writer.writerow(\n",
    "        {\n",
    "        'temperature': temperature ,\n",
    "        'humidity' : humidity ,\n",
    "        'visibility' : visibility ,\n",
    "        'air_pressure' : air_pressure ,\n",
    "        'wind_speed' : wind_speed ,\n",
    "        'date_time' : date_time\n",
    "        }\n",
    "        )\n",
    "    \n",
    "\n"
   ]
  },
  {
   "cell_type": "code",
   "execution_count": null,
   "metadata": {},
   "outputs": [],
   "source": []
  }
 ],
 "metadata": {
  "kernelspec": {
   "display_name": "Python 3",
   "language": "python",
   "name": "python3"
  },
  "language_info": {
   "codemirror_mode": {
    "name": "ipython",
    "version": 3
   },
   "file_extension": ".py",
   "mimetype": "text/x-python",
   "name": "python",
   "nbconvert_exporter": "python",
   "pygments_lexer": "ipython3",
   "version": "3.7.6"
  }
 },
 "nbformat": 4,
 "nbformat_minor": 4
}
